{
  "nbformat": 4,
  "nbformat_minor": 0,
  "metadata": {
    "colab": {
      "name": "python_practice.ipynb",
      "provenance": [],
      "collapsed_sections": [],
      "include_colab_link": true
    },
    "kernelspec": {
      "name": "python3",
      "display_name": "Python 3"
    },
    "language_info": {
      "name": "python"
    }
  },
  "cells": [
    {
      "cell_type": "markdown",
      "metadata": {
        "id": "view-in-github",
        "colab_type": "text"
      },
      "source": [
        "<a href=\"https://colab.research.google.com/github/soyeonri/python-practice/blob/main/python_practice.ipynb\" target=\"_parent\"><img src=\"https://colab.research.google.com/assets/colab-badge.svg\" alt=\"Open In Colab\"/></a>"
      ]
    },
    {
      "cell_type": "markdown",
      "source": [
        "# Python Practice"
      ],
      "metadata": {
        "id": "rFBoI5WhIP9Q"
      }
    },
    {
      "cell_type": "code",
      "source": [
        "#제목작성\n",
        "print(\"Hello,Python!\")"
      ],
      "metadata": {
        "colab": {
          "base_uri": "https://localhost:8080/"
        },
        "id": "tCDzheTMRpq8",
        "outputId": "7dc8a7e7-4680-4b32-a549-7718d9de741c"
      },
      "execution_count": 4,
      "outputs": [
        {
          "output_type": "stream",
          "name": "stdout",
          "text": [
            "Hello,Python!\n"
          ]
        }
      ]
    },
    {
      "cell_type": "markdown",
      "source": [
        "## input 함수와 print 함수"
      ],
      "metadata": {
        "id": "CwcJ8r6XL3QW"
      }
    },
    {
      "cell_type": "code",
      "execution_count": 6,
      "metadata": {
        "id": "2m9FbvUoINBg",
        "colab": {
          "base_uri": "https://localhost:8080/"
        },
        "outputId": "25d0250c-d686-429a-9ed8-3e0c7be1f623"
      },
      "outputs": [
        {
          "output_type": "stream",
          "name": "stdout",
          "text": [
            "안녕하세요? 오늘 기분은 어떤가요? 좋아요\n",
            " 좋아요\n",
            "오늘 기분이  좋아요 라고 답했어요.\n"
          ]
        }
      ],
      "source": [
        "# input 함수와 print 함수\n",
        "\n",
        "example = input(\"안녕하세요? 오늘 기분은 어떤가요?\")\n",
        "# exmaple 출력\n",
        "print(example)\n",
        "# f-string을 사용한 출력\n",
        "print(f\"오늘 기분이 {example} 라고 답했어요.\")\n"
      ]
    },
    {
      "cell_type": "markdown",
      "source": [
        "## 문자열 자료형"
      ],
      "metadata": {
        "id": "scvQU6KpMAQq"
      }
    },
    {
      "cell_type": "code",
      "source": [
        "# sample code 작성하기\n",
        "str=\"sookmyung\"\n",
        "print(str[0])\n",
        "print(str[0:4])"
      ],
      "metadata": {
        "id": "YdhlDXoJKk3P",
        "colab": {
          "base_uri": "https://localhost:8080/"
        },
        "outputId": "bcf3ee78-a02c-4da8-8f31-1a30ad38e84c"
      },
      "execution_count": 7,
      "outputs": [
        {
          "output_type": "stream",
          "name": "stdout",
          "text": [
            "s\n",
            "sook\n"
          ]
        }
      ]
    },
    {
      "cell_type": "markdown",
      "source": [
        "## 리스트 자료형"
      ],
      "metadata": {
        "id": "Srb_7e00MBCK"
      }
    },
    {
      "cell_type": "code",
      "source": [
        "# sample code 작성하기\n",
        "my_list = [1, 2, 3, 'hi!', 4]\n",
        "print(my_list[3])\n",
        "print(my_list[0:3])\n"
      ],
      "metadata": {
        "id": "QysPX7v0MBhK",
        "colab": {
          "base_uri": "https://localhost:8080/"
        },
        "outputId": "c95e2dfb-f605-4155-8363-b1e8337a48a5"
      },
      "execution_count": 8,
      "outputs": [
        {
          "output_type": "stream",
          "name": "stdout",
          "text": [
            "hi!\n",
            "[1, 2, 3]\n"
          ]
        }
      ]
    },
    {
      "cell_type": "markdown",
      "source": [
        "## 튜플 자료형"
      ],
      "metadata": {
        "id": "RBzDKWlSMC3P"
      }
    },
    {
      "cell_type": "code",
      "source": [
        "# sample code 작성하기\n",
        "my_tuple=(1,2,'a','b')\n",
        "print(my_tuple[3])\n",
        "print(my_tuple[1:])"
      ],
      "metadata": {
        "id": "AalkYwrJMGJZ",
        "colab": {
          "base_uri": "https://localhost:8080/"
        },
        "outputId": "1672f147-eb77-4ef7-add4-96708dfbca60"
      },
      "execution_count": 9,
      "outputs": [
        {
          "output_type": "stream",
          "name": "stdout",
          "text": [
            "b\n",
            "(2, 'a', 'b')\n"
          ]
        }
      ]
    },
    {
      "cell_type": "markdown",
      "source": [
        "## 딕셔너리 자료형"
      ],
      "metadata": {
        "id": "454XHQQ8MGso"
      }
    },
    {
      "cell_type": "code",
      "source": [
        "# sample code 작성하기\n",
        "my_dict = {'apple':500, 'banana': 100, 'cat':7000, 'dog':7100}\n",
        "print(my_dict['apple'])\n",
        "print(my_dict['cat'])"
      ],
      "metadata": {
        "id": "rmEeXjiNObBf",
        "colab": {
          "base_uri": "https://localhost:8080/"
        },
        "outputId": "711e8f4a-a580-4f14-af69-98de027cfe63"
      },
      "execution_count": 10,
      "outputs": [
        {
          "output_type": "stream",
          "name": "stdout",
          "text": [
            "500\n",
            "7000\n"
          ]
        }
      ]
    },
    {
      "cell_type": "markdown",
      "source": [
        "# 미션 1\n",
        "#### 이름과 태어난 연도를 입력받아 나이와 함께 인사하는 코드 작성하기\n",
        "\n",
        "* 사용자에게 총 2번의 입력을 받아 각각 서로 다른 변수에 저장해주세요. <br>\n",
        "이름 (name), 태어난 해 (born)\n",
        "\n",
        "* 이 변수 2개를 모두 활용해 나이(age)를 계산한 다음, 인사를 하는 프로그램을 작성해주세요. <br>\n",
        "(예) 재석님, 안녕하세요! 올해 51살이 되셨군요?"
      ],
      "metadata": {
        "id": "AqwAnU0WOggx"
      }
    },
    {
      "cell_type": "code",
      "source": [
        "print(\"=\" * 50)\n",
        "\n",
        "# 각 값을 입력 받기\n",
        "name = input(\"성함이 어떻게 되시나요?\")\n",
        "print(f\"이름 ({name})\")\n",
        "born = input(\"태어난 년도가 언제인가요?\")\n",
        "print(born)\n",
        "\n",
        "# 나이 계산하는 식 작성하기\n",
        "age = 2022 - int(born) + 1\n",
        "\n",
        "print(\"=\" * 50)\n",
        "\n",
        "# f-string을 사용해 출력하기\n",
        "print(f\"{name}님,안녕하세요! 올해 {age} 살이 되셨군요?\")"
      ],
      "metadata": {
        "id": "epyu09CtOsLn",
        "colab": {
          "base_uri": "https://localhost:8080/"
        },
        "outputId": "b7ab1837-fe71-49d2-9550-b5770769d214"
      },
      "execution_count": 16,
      "outputs": [
        {
          "output_type": "stream",
          "name": "stdout",
          "text": [
            "==================================================\n",
            "성함이 어떻게 되시나요?이소연\n",
            "이름 (이소연)\n",
            "태어난 년도가 언제인가요?1998\n",
            "1998\n",
            "==================================================\n",
            "이소연님,안녕하세요! 올해 25 살이 되셨군요?\n"
          ]
        }
      ]
    },
    {
      "cell_type": "markdown",
      "source": [
        "## while문"
      ],
      "metadata": {
        "id": "HgoDRNvpThAL"
      }
    },
    {
      "cell_type": "code",
      "source": [
        "# sample code 작성하기"
      ],
      "metadata": {
        "id": "TFPpx725OxTC"
      },
      "execution_count": null,
      "outputs": []
    },
    {
      "cell_type": "markdown",
      "source": [
        "## for문"
      ],
      "metadata": {
        "id": "doQkOs0aTlXB"
      }
    },
    {
      "cell_type": "code",
      "source": [
        "# sample code 작성하기\n",
        "for i in range(10):\n",
        "    print\n",
        "\n"
      ],
      "metadata": {
        "id": "_5nS-IyaTlKY"
      },
      "execution_count": null,
      "outputs": []
    },
    {
      "cell_type": "markdown",
      "source": [
        "## if문"
      ],
      "metadata": {
        "id": "u-2-BBE_Tpmw"
      }
    },
    {
      "cell_type": "code",
      "source": [
        "# sample code 작성하기\n",
        "password = \"sookmyung123\"\n",
        "my_input = input(\"PASSWORD: \")\n",
        "if password == my_input:\n",
        "  print(\"LOGIN\")\n",
        "else:\n",
        "  print(\"FAIL\")"
      ],
      "metadata": {
        "id": "15Gww_3OTpUA",
        "colab": {
          "base_uri": "https://localhost:8080/"
        },
        "outputId": "009d4190-1c8c-4d09-aae8-d0fd007749aa"
      },
      "execution_count": 17,
      "outputs": [
        {
          "output_type": "stream",
          "name": "stdout",
          "text": [
            "PASSWORD: sookmyung123\n",
            "LOGIN\n"
          ]
        }
      ]
    },
    {
      "cell_type": "code",
      "source": [
        "if age<20:\n",
        "  print('20대 미만입니다.')\n",
        "elif age<=23:\n",
        "  print('20대 초반입니다.')\n",
        "elif 23<age<=26:\n",
        "  print('20대 중반입니다.')\n",
        "elif 26<age<=29:\n",
        "  print('20e대 후반입니다.')\n",
        "else:\n",
        "  print('30대 이상입니다')\n",
        "  "
      ],
      "metadata": {
        "colab": {
          "base_uri": "https://localhost:8080/"
        },
        "id": "PiZnuQ_QirSw",
        "outputId": "746b48fe-8138-405d-8e38-c4c218c6e8fd"
      },
      "execution_count": 18,
      "outputs": [
        {
          "output_type": "stream",
          "name": "stdout",
          "text": [
            "20대 중반입니다.\n"
          ]
        }
      ]
    },
    {
      "cell_type": "markdown",
      "source": [
        "# 미션 2\n",
        "#### 몬스터 10마리를 잡으면 LEVEL UP!하는 프로그램 작성하기\n",
        "\n",
        "* 잡은 몬스터 수를 세는 변수에 초기값으로 0을 저장해주세요.\n",
        "* 반복문을 사용해서 몬스터를 잡을 때마다 1을 더해주세요.\n",
        "* 잡은 몬스터 수가 1마리 ~ 10마리일 때까지 현재 몬스터 수를 출력하고\n",
        "* 10마리가 되면 LEVEL UP!을 출력해주세요.\n"
      ],
      "metadata": {
        "id": "2Yx_mmrpboIW"
      }
    },
    {
      "cell_type": "code",
      "source": [
        "kill_count = 0\n",
        "\n",
        "# 10번 반복하기\n",
        "\n",
        "# 반복문 안에서는 kill_count에 1을 더하고 현재 몬스터 수를 출력한다.\n",
        "\n",
        "while kill_count < 10:\n",
        "  kill_count = kill_count + 1\n",
        "  print(\"몬스터를 더잡아야 합니다.\")\n",
        "  print(f\"현재 몬스터 수 : {kill_count}\")\n",
        "\n",
        "print(\"LEVEL UP!\")\n",
        "\n"
      ],
      "metadata": {
        "id": "u6SIOQdEbon0",
        "colab": {
          "base_uri": "https://localhost:8080/"
        },
        "outputId": "2c783f24-60ef-4f7d-a74b-b801e1e4fb85"
      },
      "execution_count": 24,
      "outputs": [
        {
          "output_type": "stream",
          "name": "stdout",
          "text": [
            "몬스터를 더잡아야 합니다.\n",
            "현재 몬스터 수 : 1\n",
            "몬스터를 더잡아야 합니다.\n",
            "현재 몬스터 수 : 2\n",
            "몬스터를 더잡아야 합니다.\n",
            "현재 몬스터 수 : 3\n",
            "몬스터를 더잡아야 합니다.\n",
            "현재 몬스터 수 : 4\n",
            "몬스터를 더잡아야 합니다.\n",
            "현재 몬스터 수 : 5\n",
            "몬스터를 더잡아야 합니다.\n",
            "현재 몬스터 수 : 6\n",
            "몬스터를 더잡아야 합니다.\n",
            "현재 몬스터 수 : 7\n",
            "몬스터를 더잡아야 합니다.\n",
            "현재 몬스터 수 : 8\n",
            "몬스터를 더잡아야 합니다.\n",
            "현재 몬스터 수 : 9\n",
            "몬스터를 더잡아야 합니다.\n",
            "현재 몬스터 수 : 10\n",
            "LEVEL UP!\n"
          ]
        }
      ]
    },
    {
      "cell_type": "code",
      "source": [
        "for i in range(10):\n",
        "  print(\"몬스터를 더잡아야 합니다.\")\n",
        "  print(f\"현재 몬스터 수 : {i+1}\")\n",
        "\n",
        "print(\"LEVEL UP!\")"
      ],
      "metadata": {
        "colab": {
          "base_uri": "https://localhost:8080/"
        },
        "id": "AFs1aV7csdFs",
        "outputId": "c8dede0f-82ad-45ea-e717-39e0eee2091a"
      },
      "execution_count": 27,
      "outputs": [
        {
          "output_type": "stream",
          "name": "stdout",
          "text": [
            "몬스터를 더잡아야 합니다.\n",
            "현재 몬스터 수 : 1\n",
            "몬스터를 더잡아야 합니다.\n",
            "현재 몬스터 수 : 2\n",
            "몬스터를 더잡아야 합니다.\n",
            "현재 몬스터 수 : 3\n",
            "몬스터를 더잡아야 합니다.\n",
            "현재 몬스터 수 : 4\n",
            "몬스터를 더잡아야 합니다.\n",
            "현재 몬스터 수 : 5\n",
            "몬스터를 더잡아야 합니다.\n",
            "현재 몬스터 수 : 6\n",
            "몬스터를 더잡아야 합니다.\n",
            "현재 몬스터 수 : 7\n",
            "몬스터를 더잡아야 합니다.\n",
            "현재 몬스터 수 : 8\n",
            "몬스터를 더잡아야 합니다.\n",
            "현재 몬스터 수 : 9\n",
            "몬스터를 더잡아야 합니다.\n",
            "현재 몬스터 수 : 10\n",
            "LEVEL UP!\n"
          ]
        }
      ]
    },
    {
      "cell_type": "code",
      "source": [
        "kill_count = 0\n",
        "\n",
        "while kill_count < 10:\n",
        "  name = input(\"몬스터를 잡으시겠습니까?\")\n",
        "  \n",
        "  if name == \"Y\":\n",
        "    kill_count = kill_count + 1\n",
        "    print(\"몬스터를 더 잡아야 합니다.\")\n",
        "    print(f\"현재 몬스터 수 : {kill_count}\")\n",
        "  \n",
        "  elif name == \"N\":\n",
        "    kill_count = kill_count - 1\n",
        "    print(\"몬스터를 더 잡아야 합니다.\")\n",
        "    print(f\"현재 몬스터 수 : {kill_count}\")\n",
        "\n",
        "print(\"LEVEL UP!\")\n",
        "\n",
        "\n",
        "\n"
      ],
      "metadata": {
        "colab": {
          "base_uri": "https://localhost:8080/"
        },
        "id": "i8nBl8ygvKej",
        "outputId": "d9245023-e790-4adb-ee13-510f5ef9398b"
      },
      "execution_count": 36,
      "outputs": [
        {
          "output_type": "stream",
          "name": "stdout",
          "text": [
            "몬스터를 잡으시겠습니까?Y\n",
            "몬스터를 더 잡아야 합니다.\n",
            "현재 몬스터 수 : 1\n",
            "몬스터를 잡으시겠습니까?Y\n",
            "몬스터를 더 잡아야 합니다.\n",
            "현재 몬스터 수 : 2\n",
            "몬스터를 잡으시겠습니까?Y\n",
            "몬스터를 더 잡아야 합니다.\n",
            "현재 몬스터 수 : 3\n",
            "몬스터를 잡으시겠습니까?Y\n",
            "몬스터를 더 잡아야 합니다.\n",
            "현재 몬스터 수 : 4\n",
            "몬스터를 잡으시겠습니까?Y\n",
            "몬스터를 더 잡아야 합니다.\n",
            "현재 몬스터 수 : 5\n",
            "몬스터를 잡으시겠습니까?Y\n",
            "몬스터를 더 잡아야 합니다.\n",
            "현재 몬스터 수 : 6\n",
            "몬스터를 잡으시겠습니까?Y\n",
            "몬스터를 더 잡아야 합니다.\n",
            "현재 몬스터 수 : 7\n",
            "몬스터를 잡으시겠습니까?Y\n",
            "몬스터를 더 잡아야 합니다.\n",
            "현재 몬스터 수 : 8\n",
            "몬스터를 잡으시겠습니까?Y\n",
            "몬스터를 더 잡아야 합니다.\n",
            "현재 몬스터 수 : 9\n",
            "몬스터를 잡으시겠습니까?Y\n",
            "몬스터를 더 잡아야 합니다.\n",
            "현재 몬스터 수 : 10\n",
            "LEVEL UP!\n"
          ]
        }
      ]
    },
    {
      "cell_type": "markdown",
      "source": [
        "# 미션 3\n",
        "#### 카페 주문 프로그램 작성하기 (토요일 오전 미션)\n",
        "\n",
        "* 1번 메뉴는 아메리카노(4100원), 2번 메뉴는 카페라떼(4600원), 3번 메뉴는 바닐라라떼(5100원)입니다.\n",
        "* 주문하실 메뉴 번호(order)를 입력합니다.\n",
        "* 조건문을 이용해서 메뉴 번호(order)에 맞는 금액(price)이 계산되도록 식을 만들어주세요. (1을 입력하면 4100원, 2를 입력하면 4600원, 3을 입력하면 5100원)\n",
        "* 총 금액(total_price)을 구하는 식을 만들어주세요.\n",
        "* 투입한 금액(money)이 총 금액보다 크면 거스름돈(change)을 계산하고, 부족하면 주문을 취소합니다.\n",
        "* 메뉴 번호 4를 입력하면 주문이 취소되면서 반복문을 빠져나옵니다.\n",
        "\n",
        "\n",
        "\n"
      ],
      "metadata": {
        "id": "17AqYKjngEo3"
      }
    },
    {
      "cell_type": "code",
      "source": [
        "while True :\n",
        "  print(\"=\" * 45)\n",
        "  menu = \" 1. 아메리카노 : 4100원 \\n 2. 카페라떼 : 4600원 \\n 3. 바닐라라떼 : 5100원 \\n 4. 주문 종료\"\n",
        "  print(menu)\n",
        "  print(\"=\" * 45)\n",
        "\n",
        "  # 커피 종류를 입력받습니다. \n",
        "  order = input(\"주문하실 메뉴 번호를 입력해주세요.\")\n",
        "\n",
        "  if order in [\"1\", \"2\", \"3\"]:\n",
        "    # 입력한 커피 가격을 price 변수에 넣어줍니다. \n",
        "    if order == 1:\n",
        "      price = 4100\n",
        "    elif order == 2:\n",
        "      price = 4600\n",
        "    else:\n",
        "      price = 5100\n",
        "\n",
        "    cups = int(input(\"몇 잔을 드릴까요? 잔 수 입력 >>> \"))\n",
        "    # 총 금액을 계산하고 total_price 변수에 넣어줍니다.\n",
        "    total_price = price * cups\n",
        "\n",
        "    money = int(input(f\"총 금액은 {total_price}원 입니다. 돈을 투입해주세요 >>> \"))\n",
        "    # 총 금액보다 투입 금액이 큰 경우 거스름돈을 계산하고 출력합니다.\n",
        "    if money > total_price:\n",
        "      change = money - total_price\n",
        "      print(f\"거스름돈은 {change}원 입니다.\")\n",
        "\n",
        "    # 총 금액보다 작은 금액을 입력한 경우 주문을 취소합니다.\n",
        "    else :\n",
        "      print(\"금액이 부족합니다. 주문이 취소되었습니다.\")\n",
        "\n",
        "\n",
        "  elif order == \"4\" :\n",
        "    # 4를 입력하면 주문을 종료하고 반복문을 빠져나갑니다.\n",
        "    print(\"주문을 종료합니다.\")\n",
        "    # 반복문 빠져나가기\n",
        "    break   \n",
        "  # 1,2,3,4가 아닌 다른 숫자를 입력한 경우 \"잘못된 주문입니다\"를 출력합니다.\n",
        "  else :\n",
        "      print(\"잘못된 주문입니다.\")\n",
        "      "
      ],
      "metadata": {
        "id": "wRrKf3NJg_yy",
        "colab": {
          "base_uri": "https://localhost:8080/"
        },
        "outputId": "ba3dad21-eca4-4919-e08e-d38512c42b6e"
      },
      "execution_count": 12,
      "outputs": [
        {
          "output_type": "stream",
          "name": "stdout",
          "text": [
            "=============================================\n",
            " 1. 아메리카노 : 4100원 \n",
            " 2. 카페라떼 : 4600원 \n",
            " 3. 바닐라라떼 : 5100원 \n",
            " 4. 주문 종료\n",
            "=============================================\n",
            "주문하실 메뉴 번호를 입력해주세요.1\n",
            "몇 잔을 드릴까요? 잔 수 입력 >>> 3\n",
            "총 금액은 15300원 입니다. 돈을 투입해주세요 >>> 20000\n",
            "거스름돈은 4700원 입니다.\n",
            "=============================================\n",
            " 1. 아메리카노 : 4100원 \n",
            " 2. 카페라떼 : 4600원 \n",
            " 3. 바닐라라떼 : 5100원 \n",
            " 4. 주문 종료\n",
            "=============================================\n",
            "주문하실 메뉴 번호를 입력해주세요.4\n",
            "주문을 종료합니다.\n"
          ]
        }
      ]
    },
    {
      "cell_type": "markdown",
      "source": [
        "*   메뉴를 딕셔너리로 만들고, 메뉴번호가 아닌 직접 메뉴를 입력해서 주문을 받는다면 어떻게 수정할 수 있을까?\n",
        "*   거스름돈을 1000원권 N장, 500원 N개, 100원 N개로 출력해주려면 어떤 코드를 추가해야 할까?"
      ],
      "metadata": {
        "id": "X-7poa5vuTN1"
      }
    },
    {
      "cell_type": "code",
      "source": [
        "while True :\n",
        "  print(\"=\" * 45)\n",
        "  menu = {\"아메리카노\" : 4100, \"카페라떼\" : 4600, \"바닐라라떼\" : 5100}\n",
        "  print(menu)\n",
        "  print(\"=\" * 45)\n",
        "\n",
        "  # 커피 종류를 입력받습니다. \n",
        "  order = input(\"주문하실 메뉴 이름을 입력해주세요.(주문종료는 4를 입력해주세요.) : \")\n",
        "\n",
        "  if order in [\"아메리카노\", \"카페라떼\", \"바닐라라떼\"]:\n",
        "    # 입력한 커피 가격을 price 변수에 넣어줍니다. \n",
        "    if order == \"아메리카노\":\n",
        "      price = menu[\"아메리카노\"]\n",
        "    elif order == \"카페라떼\":\n",
        "      price = menu[\"카페라떼\"]\n",
        "    else:\n",
        "      price = menu[\"바닐라라떼\"]\n",
        "\n",
        "    cups = int(input(\"몇 잔을 드릴까요? 잔 수 입력 >>> \"))\n",
        "    # 총 금액을 계산하고 total_price 변수에 넣어줍니다.\n",
        "    total_price = price * cups\n",
        "\n",
        "    money = int(input(f\"총 금액은 {total_price}원 입니다. 돈을 투입해주세요 >>> \"))\n",
        "    # 총 금액보다 투입 금액이 큰 경우 거스름돈을 계산하고 출력합니다.\n",
        "    if money > total_price:\n",
        "      change = money - total_price\n",
        "\n",
        "      change_1000 = change // 1000\n",
        "      change_remain = change % 1000\n",
        "\n",
        "      change_500 = change_remain // 500\n",
        "      change_remain100 = change_remain % 500\n",
        "\n",
        "      change_100 = change_remain100 // 100\n",
        "\n",
        "      print(f\"1000원짜리 {change_1000}장, 500원짜리 {change_500}개, 100원짜리 {change_100}개 입니다.\")\n",
        "\n",
        "    # 총 금액보다 작은 금액을 입력한 경우 주문을 취소합니다.\n",
        "    else :\n",
        "      print(\"금액이 부족합니다. 주문이 취소되었습니다.\")\n",
        "\n",
        "\n",
        "  elif order == \"4\" :\n",
        "    # 4를 입력하면 주문을 종료하고 반복문을 빠져나갑니다.\n",
        "    print(\"주문을 종료합니다.\")\n",
        "    # 반복문 빠져나가기\n",
        "    break   \n",
        "  # 1,2,3,4가 아닌 다른 숫자를 입력한 경우 \"잘못된 주문입니다\"를 출력합니다.\n",
        "  else :\n",
        "      print(\"잘못된 주문입니다.\")"
      ],
      "metadata": {
        "colab": {
          "base_uri": "https://localhost:8080/"
        },
        "id": "pxMLk3YzlmIi",
        "outputId": "9549413c-ac4e-4512-a85e-6de4de02049a"
      },
      "execution_count": null,
      "outputs": [
        {
          "name": "stdout",
          "output_type": "stream",
          "text": [
            "=============================================\n",
            "{'아메리카노': 4100, '카페라떼': 4600, '바닐라라떼': 5100}\n",
            "=============================================\n",
            "주문하실 메뉴 이름을 입력해주세요.(주문종료는 4를 입력해주세요.) : 아메리카노\n",
            "몇 잔을 드릴까요? 잔 수 입력 >>> 3\n"
          ]
        }
      ]
    },
    {
      "cell_type": "code",
      "source": [
        ""
      ],
      "metadata": {
        "id": "yqJdfpbWq_IH"
      },
      "execution_count": null,
      "outputs": []
    }
  ]
}