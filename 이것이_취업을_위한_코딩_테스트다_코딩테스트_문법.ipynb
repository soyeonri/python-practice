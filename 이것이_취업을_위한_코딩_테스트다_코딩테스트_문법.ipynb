{
  "nbformat": 4,
  "nbformat_minor": 0,
  "metadata": {
    "colab": {
      "name": "이것이 취업을 위한 코딩 테스트다_코딩테스트 문법.ipynb",
      "provenance": [],
      "collapsed_sections": [],
      "toc_visible": true,
      "authorship_tag": "ABX9TyNtgYNsEZ/6Crt1gLsijK9Z"
    },
    "kernelspec": {
      "name": "python3",
      "display_name": "Python 3"
    },
    "language_info": {
      "name": "python"
    }
  },
  "cells": [
    {
      "cell_type": "markdown",
      "source": [
        "# **시간과 메모리 측정**"
      ],
      "metadata": {
        "id": "dIHf3x3nu576"
      }
    },
    {
      "cell_type": "markdown",
      "source": [
        "**시간 복잡도 계산해보기**\n",
        "1.   N개의 데이터의 합을 계산하는 프로그램\n",
        "*   수행 시간은 데이터의 개수 N에 비례\n",
        "*   시간 복잡도: O(N) 이 문제는 5\n",
        "\n"
      ],
      "metadata": {
        "id": "bxhQQPOvGvdW"
      }
    },
    {
      "cell_type": "code",
      "source": [
        "\n",
        "array = [3, 5, 1, 2, 4]\n",
        "summary = 0\n",
        "\n",
        "for x in array:\n",
        "  summary += x\n",
        "\n",
        "print(summary)"
      ],
      "metadata": {
        "colab": {
          "base_uri": "https://localhost:8080/"
        },
        "id": "H33IS0inG2MN",
        "outputId": "7efa9f20-f2e0-48e1-e407-5393f035e9aa"
      },
      "execution_count": null,
      "outputs": [
        {
          "output_type": "stream",
          "name": "stdout",
          "text": [
            "15\n"
          ]
        }
      ]
    },
    {
      "cell_type": "markdown",
      "source": [
        "\n",
        "2.   2중 반복문\n",
        "\n",
        "\n",
        "*   시간 복잡도: O(N제곱) 이 문제는 25\n",
        "*   모든 2중 반목문의 시간 복잡도가 O(N제곱)은 아님\n",
        "\n",
        "\n",
        "\n"
      ],
      "metadata": {
        "id": "XdMSUhU_Hhrp"
      }
    },
    {
      "cell_type": "code",
      "source": [
        "array = [3, 5, 1, 2, 4]\n",
        "for i in array:\n",
        "  for j in array:\n",
        "    temp = i*j\n",
        "    print(temp)\n",
        "    "
      ],
      "metadata": {
        "id": "FRSHIbf8H56V"
      },
      "execution_count": null,
      "outputs": []
    },
    {
      "cell_type": "markdown",
      "source": [
        "**요구사항에 따라 적절한 알고리즘 설계하기**\n",
        "\n",
        "\n",
        "*   문제에서 가장 먼저 확인: 수행시간 요구사항\n",
        "*   시간제한이 1초인 문제 ex) 1초에 2000만번\n",
        "N의 범위가 500인 경우: 시간 복잡도가 O(N세제곱)인 알고리즘을 설계하면 문제를 풀 수 있다. "
      ],
      "metadata": {
        "id": "moedB1ExJCUq"
      }
    },
    {
      "cell_type": "markdown",
      "source": [
        "**알고리즘 문제 해결 과정**\n",
        "*   간결하게 소스코드 작성\n",
        "1.   지문 읽기 및 컴퓨터적 사고\n",
        "2.   요구사항(복잡도) 분석\n",
        "3.   문제 해결을 위한 아이디어 찾기\n",
        "4.   소스코드 설계 및 코딩\n",
        "\n"
      ],
      "metadata": {
        "id": "JGWn1NbqKAHF"
      }
    },
    {
      "cell_type": "markdown",
      "source": [
        "수행 시간 측정"
      ],
      "metadata": {
        "id": "KuFYB5sWvTbx"
      }
    },
    {
      "cell_type": "code",
      "source": [
        "import time\n",
        "start_time = time.time()\n",
        "\n",
        "end_time = time.time()\n",
        "\n",
        "print('time: ', end_time - start_time)"
      ],
      "metadata": {
        "colab": {
          "base_uri": "https://localhost:8080/"
        },
        "id": "gDThcxravEh-",
        "outputId": "1bc3a386-f905-4ba9-c949-e436ea7491dc"
      },
      "execution_count": null,
      "outputs": [
        {
          "output_type": "stream",
          "name": "stdout",
          "text": [
            "time:  2.7418136596679688e-05\n"
          ]
        }
      ]
    },
    {
      "cell_type": "markdown",
      "source": [
        "선택정렬과 Sort정렬의 수행시간 비교"
      ],
      "metadata": {
        "id": "rLTD1IO_vgGQ"
      }
    },
    {
      "cell_type": "code",
      "source": [
        "from random import randint\n",
        "import time\n",
        "\n",
        "array = []\n",
        "for _ in range(10000):\n",
        "  array.append(randint(1, 100))\n",
        "\n",
        "start_time = time.time()\n",
        "\n",
        "for i in range(len(array)):\n",
        "    min_index = i\n",
        "    for j in range(i+1, len(array)):\n",
        "      if array[min_index > array[j]]:\n",
        "          min_index = j\n",
        "    \n",
        "    array[i], array[min_index] = array[min_index], array[i]\n",
        "\n",
        "end_time = time.time()\n",
        "print('선택 정렬 시간측정: ', end_time - start_time)\n",
        "\n",
        "sort_start_time = time.time()\n",
        "\n",
        "array.sort()\n",
        "\n",
        "sort_end_time = time.time()\n",
        "\n",
        "print('sort 시간:', sort_end_time - sort_start_time)\n",
        "\n"
      ],
      "metadata": {
        "colab": {
          "base_uri": "https://localhost:8080/"
        },
        "id": "KF3OYgAuvy-B",
        "outputId": "6251dce8-bdd5-4820-daf3-3a5b448e81b6"
      },
      "execution_count": null,
      "outputs": [
        {
          "output_type": "stream",
          "name": "stdout",
          "text": [
            "선택 정렬 시간측정:  11.390222311019897\n",
            "sort 시간: 0.0016369819641113281\n"
          ]
        }
      ]
    },
    {
      "cell_type": "markdown",
      "source": [
        "# **자료형**\n"
      ],
      "metadata": {
        "id": "jEitEuE4K9FY"
      }
    },
    {
      "cell_type": "markdown",
      "source": [
        "**정수형**"
      ],
      "metadata": {
        "id": "sxp3vontLAl6"
      }
    },
    {
      "cell_type": "code",
      "source": [
        "#양의 정수\n",
        "a = 1000\n",
        "print(a)\n",
        "\n",
        "#음의 정수\n",
        "a = -7\n",
        "print(a)\n",
        "\n",
        "a = 0\n",
        "print (a)"
      ],
      "metadata": {
        "colab": {
          "base_uri": "https://localhost:8080/"
        },
        "id": "IoIkvlNJLBxK",
        "outputId": "2d12afe9-6ad0-4ad6-e42e-d62151df4cd7"
      },
      "execution_count": null,
      "outputs": [
        {
          "output_type": "stream",
          "name": "stdout",
          "text": [
            "1000\n",
            "-7\n",
            "0\n"
          ]
        }
      ]
    },
    {
      "cell_type": "code",
      "source": [
        "a = 777\n",
        "print(a)\n",
        "\n",
        "a = a + 1\n",
        "print(a)"
      ],
      "metadata": {
        "colab": {
          "base_uri": "https://localhost:8080/"
        },
        "id": "js7I3LXKLZCE",
        "outputId": "8b298a5f-b3c0-4ddc-eb7f-4a55c9935c4c"
      },
      "execution_count": null,
      "outputs": [
        {
          "output_type": "stream",
          "name": "stdout",
          "text": [
            "777\n",
            "778\n"
          ]
        }
      ]
    },
    {
      "cell_type": "markdown",
      "source": [
        "**실수형**\n",
        "\n",
        "\n"
      ],
      "metadata": {
        "id": "GxRkjbszLe2E"
      }
    },
    {
      "cell_type": "code",
      "source": [
        "a = 157.93\n",
        "print(a)\n",
        "\n",
        "a = -1837.2\n",
        "print(a)\n",
        "\n",
        "a = 5.\n",
        "print(a)\n",
        "\n",
        "a=-.7\n",
        "print(a)\n",
        "\n"
      ],
      "metadata": {
        "colab": {
          "base_uri": "https://localhost:8080/"
        },
        "id": "nSdt06gELjuJ",
        "outputId": "3b01f5f1-01b2-4841-f725-6af4f366f45b"
      },
      "execution_count": null,
      "outputs": [
        {
          "output_type": "stream",
          "name": "stdout",
          "text": [
            "157.93\n",
            "-1837.2\n",
            "5.0\n",
            "-0.7\n"
          ]
        }
      ]
    },
    {
      "cell_type": "markdown",
      "source": [
        "*   컴퓨터 시스템은 실수 정보를 표현하는 정확도에 한계를 가짐 \n",
        "*   2진수에서는 표현상의 정확도 한계가 있음\n",
        "\n",
        "\n",
        "> round() 함수 이용 "
      ],
      "metadata": {
        "id": "XmENljXnOaZ6"
      }
    },
    {
      "cell_type": "code",
      "source": [
        "a = 0.3 + 0.6\n",
        "print(round(a,4))\n",
        "\n",
        "if round(a, 4) == 0.9:\n",
        "  print(True)\n",
        "else:\n",
        "  print(False)"
      ],
      "metadata": {
        "colab": {
          "base_uri": "https://localhost:8080/"
        },
        "id": "araq_cvLOdmg",
        "outputId": "9ac330b0-3ee2-49e4-fa18-f8eb241101fb"
      },
      "execution_count": null,
      "outputs": [
        {
          "output_type": "stream",
          "name": "stdout",
          "text": [
            "0.9\n",
            "True\n"
          ]
        }
      ]
    },
    {
      "cell_type": "markdown",
      "source": [
        "**지수표현방식**\n",
        "\n",
        "*   e나 E를 이용한 지수 표현 방식\n",
        "\n",
        "> 1e9 = 10의 9제곱\n",
        "\n",
        "*   최단 경로 알고리즘에서는 도달할 수 없는 노드에 대하여 최단 거리를 무한(INF)으로 설정\n",
        "\n",
        "> ex) 가능한 최댓값이 10억 미만이라면 무한의 값으로 1e9 사용 가능\n",
        "\n",
        "\n",
        "\n",
        "\n",
        "\n"
      ],
      "metadata": {
        "id": "0zV-73fiKtV0"
      }
    },
    {
      "cell_type": "code",
      "source": [
        "#10억의 지수표현방식\n",
        "a = 1e9 #실수형 데이터\n",
        "        #정수형으로 바꾸고 싶은면 int(1e9)\n",
        "print(a)\n",
        "\n",
        "#75.25 * 10\n",
        "a = 75.25e1\n",
        "print(a)\n",
        "\n",
        "a = 3954e-3\n",
        "print(a)\n"
      ],
      "metadata": {
        "colab": {
          "base_uri": "https://localhost:8080/"
        },
        "id": "8uIEEvquLIX5",
        "outputId": "6bb076b0-0193-4f28-d8bb-712003da1a00"
      },
      "execution_count": null,
      "outputs": [
        {
          "output_type": "stream",
          "name": "stdout",
          "text": [
            "1000000000.0\n",
            "752.5\n",
            "3.954\n"
          ]
        }
      ]
    },
    {
      "cell_type": "markdown",
      "source": [
        "**수 자료형의 연산**\n",
        "*   사칙연산\n",
        "*   나누기: / 나눠진 결과를 실수형으로 반환\n",
        "*   나머지: % ex)홀수 체크\n",
        "*   몫: //\n",
        "*   거듭 제곱 연산자: **\n",
        "*   제곱근 : ** 0.5\n"
      ],
      "metadata": {
        "id": "KiKkqrZ0OvrN"
      }
    },
    {
      "cell_type": "code",
      "source": [
        "a = 7\n",
        "b = 3\n",
        "\n",
        "print(a ** b)\n",
        "print(a ** 0.5)\n"
      ],
      "metadata": {
        "colab": {
          "base_uri": "https://localhost:8080/"
        },
        "id": "3eto53NfNHdF",
        "outputId": "777ebcb7-e16d-4bcd-f537-799428850e65"
      },
      "execution_count": null,
      "outputs": [
        {
          "output_type": "stream",
          "name": "stdout",
          "text": [
            "343\n",
            "2.6457513110645907\n"
          ]
        }
      ]
    },
    {
      "cell_type": "markdown",
      "source": [
        "# **리스트 자료형**"
      ],
      "metadata": {
        "id": "cOWaaVuTP4E-"
      }
    },
    {
      "cell_type": "markdown",
      "source": [
        "\n",
        "\n",
        "*   배열 or 테이블\n",
        "*   여러 개의 데이터를 연속적으로 담아 처리\n",
        "\n"
      ],
      "metadata": {
        "id": "XNXMV10tP9s2"
      }
    },
    {
      "cell_type": "markdown",
      "source": [
        "리스트 초기화\n",
        "\n",
        "\n",
        "*   초기화: [ ]\n",
        "*   쉼표로 원소 구분\n",
        "*   인덱스는 0으로 시작\n",
        "\n"
      ],
      "metadata": {
        "id": "qSJx7eVNcAUY"
      }
    },
    {
      "cell_type": "code",
      "source": [
        "a = [1, 2, 3, 4, 5]\n",
        "print(a)\n",
        "\n",
        "print(a[3])\n",
        "\n",
        "n = 10\n",
        "a = [0] * n\n",
        "print(a)"
      ],
      "metadata": {
        "colab": {
          "base_uri": "https://localhost:8080/"
        },
        "id": "NjfAOM1QcMpq",
        "outputId": "7c9eb488-f5d8-46ec-955a-4b37dfdcf0bc"
      },
      "execution_count": null,
      "outputs": [
        {
          "output_type": "stream",
          "name": "stdout",
          "text": [
            "[1, 2, 3, 4, 5]\n",
            "4\n",
            "[0, 0, 0, 0, 0, 0, 0, 0, 0, 0]\n"
          ]
        }
      ]
    },
    {
      "cell_type": "markdown",
      "source": [
        "\n",
        "인덱싱\n",
        "*   특정한 원소에 접근\n",
        "*   양의 정수, 음의 정수\n",
        "*   음의 정수를 넣으면 원소를 거꾸로 탐색\n",
        "\n"
      ],
      "metadata": {
        "id": "ScVo9mMfclSp"
      }
    },
    {
      "cell_type": "code",
      "source": [
        "a = [1, 2, 3, 4, 5]\n",
        "\n",
        "print(a[-3])\n",
        "\n",
        "a[3] = 7\n",
        "print(a)"
      ],
      "metadata": {
        "colab": {
          "base_uri": "https://localhost:8080/"
        },
        "id": "XIYXHhCMc_5W",
        "outputId": "90dfa92b-87ee-4f07-a10a-cb293714bcd5"
      },
      "execution_count": null,
      "outputs": [
        {
          "output_type": "stream",
          "name": "stdout",
          "text": [
            "3\n",
            "[1, 2, 3, 7, 5]\n"
          ]
        }
      ]
    },
    {
      "cell_type": "markdown",
      "source": [
        "슬라이싱\n",
        "*   연속적인 위치를 갖는 원소들을 가져와야 할 때\n",
        "*   [ : ] : 시작인데스와 끝 인덱스 설정\n",
        "*   끝 인덱스는 실제 인덱스보다 1을 더 크게 설정\n",
        "\n",
        "\n",
        "\n"
      ],
      "metadata": {
        "id": "pAJyDhEodPKn"
      }
    },
    {
      "cell_type": "code",
      "source": [
        "a = [1, 2, 3, 4, 5]\n",
        "\n",
        "print(a[1:4])"
      ],
      "metadata": {
        "colab": {
          "base_uri": "https://localhost:8080/"
        },
        "id": "XbIJjD_vdpHQ",
        "outputId": "ae2b162c-32cd-4fc6-e7f7-de9f7ff2fc85"
      },
      "execution_count": null,
      "outputs": [
        {
          "output_type": "stream",
          "name": "stdout",
          "text": [
            "[2, 3, 4]\n"
          ]
        }
      ]
    },
    {
      "cell_type": "markdown",
      "source": [
        "리스트 컴프리헨션\n",
        "*   리스트 초기화 방법 중 하나\n",
        "*   대괄호 안 조건문과 반복문 적용\n",
        "\n"
      ],
      "metadata": {
        "id": "0CDGDadSdy2V"
      }
    },
    {
      "cell_type": "code",
      "source": [
        "array = [i for i in range(10)] #0~9까지 매번 증가하며 반복\n",
        "\n",
        "print(array)"
      ],
      "metadata": {
        "colab": {
          "base_uri": "https://localhost:8080/"
        },
        "id": "GaGkzdGld-fe",
        "outputId": "8d472924-d0bf-42aa-9281-2a50bcf6930a"
      },
      "execution_count": null,
      "outputs": [
        {
          "output_type": "stream",
          "name": "stdout",
          "text": [
            "[0, 1, 2, 3, 4, 5, 6, 7, 8, 9]\n"
          ]
        }
      ]
    },
    {
      "cell_type": "code",
      "source": [
        "array = [i for i in range(20) if i % 2 == 1]\n",
        "\n",
        "print(array)\n",
        "\n",
        "#1부터 9까지의 수들의 제곱 값을 포함하는 리스트\n",
        "array = [i * i for i in range(1, 10)]\n",
        "\n",
        "print(array)"
      ],
      "metadata": {
        "colab": {
          "base_uri": "https://localhost:8080/"
        },
        "id": "GqY1ucW8eca-",
        "outputId": "1b929f8d-a9af-4045-8a21-b3ab7e3fe951"
      },
      "execution_count": null,
      "outputs": [
        {
          "output_type": "stream",
          "name": "stdout",
          "text": [
            "[1, 3, 5, 7, 9, 11, 13, 15, 17, 19]\n",
            "[1, 4, 9, 16, 25, 36, 49, 64, 81]\n"
          ]
        }
      ]
    },
    {
      "cell_type": "markdown",
      "source": [
        "\n",
        "\n",
        "*   2차원 리스트를 초기화할 때 효과적으로 사용\n",
        "*   N X M 크기의 2차원 리스트를 한번에 초기화할 때 \n",
        "> array = [[0] * m for_in range(n)]\n",
        "\n",
        "\n",
        "\n",
        "\n"
      ],
      "metadata": {
        "id": "PiVZO67Oe7uK"
      }
    },
    {
      "cell_type": "code",
      "source": [
        "#행\n",
        "n = 4\n",
        "\n",
        "#열\n",
        "m = 3\n",
        "\n",
        "array = [[0] * m ]*n\n",
        "print(array)\n",
        "\n",
        "array[1][1] = 5 #1인덱스 행에 있는 1인덱스 열의 값을 바꿈\n",
        "print(array)"
      ],
      "metadata": {
        "colab": {
          "base_uri": "https://localhost:8080/"
        },
        "id": "qu9GC-H8fYXD",
        "outputId": "6a394a11-4d45-4ec6-bd07-be88169bb2a8"
      },
      "execution_count": null,
      "outputs": [
        {
          "output_type": "stream",
          "name": "stdout",
          "text": [
            "[[0, 0, 0], [0, 0, 0], [0, 0, 0], [0, 0, 0]]\n",
            "[[0, 5, 0], [0, 5, 0], [0, 5, 0], [0, 5, 0]]\n"
          ]
        }
      ]
    },
    {
      "cell_type": "markdown",
      "source": [
        "언더바\n",
        "*   반복을 수행하되 반복을 위한 변수의 값을 무시할 때\n",
        "\n",
        "\n"
      ],
      "metadata": {
        "id": "SgBlpfc8gwTf"
      }
    },
    {
      "cell_type": "code",
      "source": [
        "for _ in range(5):\n",
        "  print(\"Hello\")"
      ],
      "metadata": {
        "colab": {
          "base_uri": "https://localhost:8080/"
        },
        "id": "F4zKaCUtg9N9",
        "outputId": "17be57ff-32bb-4eff-f192-abb7cc4927b5"
      },
      "execution_count": null,
      "outputs": [
        {
          "output_type": "stream",
          "name": "stdout",
          "text": [
            "Hello\n",
            "Hello\n",
            "Hello\n",
            "Hello\n",
            "Hello\n"
          ]
        }
      ]
    },
    {
      "cell_type": "markdown",
      "source": [
        "리스트 관련 메서드"
      ],
      "metadata": {
        "id": "MHEe8uWmi1ZF"
      }
    },
    {
      "cell_type": "code",
      "source": [
        "a = [1, 4, 3]\n",
        "\n",
        "#원소 산입\n",
        "a.append(2)\n",
        "print(a)\n",
        "\n",
        "#오름차순 정렬\n",
        "a.sort()\n",
        "print(\"오름차순 정렬: \", a)\n",
        "\n",
        "#내림차순 정렬\n",
        "a.sort(reverse = True)\n",
        "print(a)"
      ],
      "metadata": {
        "colab": {
          "base_uri": "https://localhost:8080/"
        },
        "id": "-PtMdQVFhhIx",
        "outputId": "f87e09a6-7b02-455d-ffaf-a6eb55dc32a8"
      },
      "execution_count": null,
      "outputs": [
        {
          "output_type": "stream",
          "name": "stdout",
          "text": [
            "[1, 4, 3, 2]\n",
            "오름차순 정렬:  [1, 2, 3, 4]\n",
            "[4, 3, 2, 1]\n"
          ]
        }
      ]
    },
    {
      "cell_type": "code",
      "source": [
        "a = [1, 4, 3]\n",
        "\n",
        "#원소 뒤집기\n",
        "a.reverse()\n",
        "print(a)\n",
        "\n",
        "#특정 인데스에 데이터 추가\n",
        "a.insert(2,7)\n",
        "print(a)\n",
        "\n",
        "#특정 값인 데이터 개수 세기\n",
        "print(a.count(7))\n",
        "\n",
        "#특정 값 데이터 삭제\n",
        "a.remove(1)\n",
        "print(a)"
      ],
      "metadata": {
        "colab": {
          "base_uri": "https://localhost:8080/"
        },
        "id": "aWcb30AFh9TJ",
        "outputId": "3c4329d5-e224-4167-8c7b-589034781568"
      },
      "execution_count": null,
      "outputs": [
        {
          "output_type": "stream",
          "name": "stdout",
          "text": [
            "[3, 4, 1]\n",
            "[3, 4, 7, 1]\n",
            "1\n",
            "[3, 4, 7]\n"
          ]
        }
      ]
    },
    {
      "cell_type": "markdown",
      "source": [
        "특정 값을 가지는 원소를 모두 제거"
      ],
      "metadata": {
        "id": "RGm8IkFUi5NE"
      }
    },
    {
      "cell_type": "code",
      "source": [
        "a = [1, 2, 3, 4, 5, 5, 5]\n",
        "remove_set = {3, 5}\n",
        "\n",
        "result = [i for i in a if i not in remove_set]\n",
        "print(result)"
      ],
      "metadata": {
        "colab": {
          "base_uri": "https://localhost:8080/"
        },
        "id": "Z2z_cxMqi_fb",
        "outputId": "4ba76501-c3c9-441b-9cfd-a8a5c7d9aefa"
      },
      "execution_count": null,
      "outputs": [
        {
          "output_type": "stream",
          "name": "stdout",
          "text": [
            "[1, 2, 4]\n"
          ]
        }
      ]
    },
    {
      "cell_type": "markdown",
      "source": [
        "# **문자열 자료형**"
      ],
      "metadata": {
        "id": "BH9LsTeLjUUp"
      }
    },
    {
      "cell_type": "markdown",
      "source": [
        "\n",
        "\n",
        "*   초기화: \" 나 '\n",
        "*   \"''\"\n",
        "*   '\"\"'\n",
        "*  백슬래시: 큰따옴표, 작음따옴표 원하는 만큼\n",
        "\n"
      ],
      "metadata": {
        "id": "vsWDcFSmOFDR"
      }
    },
    {
      "cell_type": "code",
      "source": [
        "data = 'Hello'\n",
        "print(data)\n",
        "\n",
        "data = \"Don't you know \\\"Python\\\"?\"\n",
        "print(data)"
      ],
      "metadata": {
        "colab": {
          "base_uri": "https://localhost:8080/"
        },
        "id": "ZGsxZOS6Oej5",
        "outputId": "f6e62cf7-9e56-4ffd-8c39-01009b62ff6f"
      },
      "execution_count": null,
      "outputs": [
        {
          "output_type": "stream",
          "name": "stdout",
          "text": [
            "Hello\n",
            "Don't you know \"Python\"?\n"
          ]
        }
      ]
    },
    {
      "cell_type": "markdown",
      "source": [
        "문자열 연산\n",
        "\n",
        "\n",
        "*   연결: +\n",
        "*   반복: *\n",
        "*   인덱싱, 슬레이싱 가능\n",
        "*   특정 인덱스 값 변경 불가\n",
        "\n"
      ],
      "metadata": {
        "id": "-Tj57hd9PmcT"
      }
    },
    {
      "cell_type": "code",
      "source": [
        "a = \"Hello\"\n",
        "b = 'World'\n",
        "print(a + \" \" + b)"
      ],
      "metadata": {
        "colab": {
          "base_uri": "https://localhost:8080/"
        },
        "id": "ECbLElqVP8J_",
        "outputId": "ee48e382-97ae-4e8c-a01a-d5b816394720"
      },
      "execution_count": null,
      "outputs": [
        {
          "output_type": "stream",
          "name": "stdout",
          "text": [
            "Hello World\n"
          ]
        }
      ]
    },
    {
      "cell_type": "code",
      "source": [
        "a = \"String\"\n",
        "print(a * 3)"
      ],
      "metadata": {
        "colab": {
          "base_uri": "https://localhost:8080/"
        },
        "id": "xojL-iP2P-wA",
        "outputId": "4cc31752-b17f-48ac-8fd2-8a91c4df15e2"
      },
      "execution_count": null,
      "outputs": [
        {
          "output_type": "stream",
          "name": "stdout",
          "text": [
            "StringStringString\n"
          ]
        }
      ]
    },
    {
      "cell_type": "code",
      "source": [
        "a = \"ABCDEF\"\n",
        "print(a[2:4])"
      ],
      "metadata": {
        "colab": {
          "base_uri": "https://localhost:8080/"
        },
        "id": "AEG4T6ioQLD9",
        "outputId": "d1c18d40-a879-48cf-f1af-d2f7d2945c8d"
      },
      "execution_count": null,
      "outputs": [
        {
          "output_type": "stream",
          "name": "stdout",
          "text": [
            "CD\n"
          ]
        }
      ]
    },
    {
      "cell_type": "markdown",
      "source": [
        "# **튜플 자료형**"
      ],
      "metadata": {
        "id": "x0qP4s_XQfRT"
      }
    },
    {
      "cell_type": "markdown",
      "source": [
        "\n",
        "\n",
        "*   한 번 선언된 값을 변경할 수 없음\n",
        "*   소괄호 이용 (())\n",
        "*   리스트에 비해 상대적으로 공간 효율적\n",
        "\n"
      ],
      "metadata": {
        "id": "p1WubdtsQiIB"
      }
    },
    {
      "cell_type": "code",
      "source": [
        "a = (1, 2, 3, 4, 5)\n",
        "\n",
        "print(a[3])\n",
        "\n",
        "print(a[1:4])"
      ],
      "metadata": {
        "colab": {
          "base_uri": "https://localhost:8080/"
        },
        "id": "NjkdlSrnQw76",
        "outputId": "317c3548-e482-4cae-a50c-ce2d7a14fb14"
      },
      "execution_count": null,
      "outputs": [
        {
          "output_type": "stream",
          "name": "stdout",
          "text": [
            "4\n",
            "(2, 3, 4)\n"
          ]
        }
      ]
    },
    {
      "cell_type": "markdown",
      "source": [
        "튜플을 사용하면 좋은 경우\n",
        "*   서로 다른 성질의 데이터를 묶어서 관리\n",
        "> 최단 경로 알고리즘: 비용, 노드번호\n",
        "*   해싱(Hashing)의 키 값\n",
        "> 변경이 불가능하기 때문에\n",
        "*   리스트보다 메모리를 효율적으로 사용해야 할 때 \n"
      ],
      "metadata": {
        "id": "gMh3XIwgRCQ5"
      }
    },
    {
      "cell_type": "markdown",
      "source": [
        "# **사전 자료형**"
      ],
      "metadata": {
        "id": "z9v_eopjRpuA"
      }
    },
    {
      "cell_type": "markdown",
      "source": [
        "\n",
        "*   키와 값의 쌍을 데이터를 가짐\n",
        "*   변경불가능한 자료형을 키로 사용\n",
        "*   해시 테이블을 이용하므로 데이터의 조회 및 수정에 있어서 O(1) 상수시간에 처리할 수 있음\n",
        "\n",
        "\n",
        "\n",
        "\n"
      ],
      "metadata": {
        "id": "PnNhfVXiRr8V"
      }
    },
    {
      "cell_type": "code",
      "source": [
        "data = dict()\n",
        "data['사과'] = 'Apple'\n",
        "data['바나나'] = 'Banana'\n",
        "data['코코넛'] = 'Coconut'\n",
        "\n",
        "print(data)\n",
        "\n",
        "#사과라는 키가 저장되어 있는지 확인\n",
        "if '사과' in data:\n",
        "  print(\"'사과'를 키로 가지는 데이터가 존재합니다.\")\n"
      ],
      "metadata": {
        "colab": {
          "base_uri": "https://localhost:8080/"
        },
        "id": "0y1GaAsuSHoP",
        "outputId": "4a3dfe8d-56b8-4ac9-a92b-078583decff8"
      },
      "execution_count": null,
      "outputs": [
        {
          "output_type": "stream",
          "name": "stdout",
          "text": [
            "{'사과': 'Apple', '바나나': 'Banana', '코코넛': 'Coconut'}\n",
            "'사과'를 키로 가지는 데이터가 존재합니다.\n"
          ]
        }
      ]
    },
    {
      "cell_type": "markdown",
      "source": [
        "\n",
        "\n",
        "*  키와 값을 별도로 뽑아내기 위한 매서드 지원\n",
        "\n",
        "\n",
        "> 키 데이터만 뽑아서: keys()\n",
        "\n",
        "\n",
        "> 값 데이터만 뽑아서: values()\n",
        "\n",
        "\n",
        "\n",
        "\n",
        "\n",
        "\n",
        "\n",
        "\n",
        "\n"
      ],
      "metadata": {
        "id": "P0unIZO8SqWj"
      }
    },
    {
      "cell_type": "code",
      "source": [
        "data = dict()\n",
        "data['사과'] = 'Apple'\n",
        "data['바나나'] = 'Banana'\n",
        "data['코코넛'] = 'Coconut'\n",
        "\n",
        "key_list = data.keys()\n",
        "value_list = data.values()\n",
        "print(key_list)\n",
        "print(value_list)\n",
        "\n",
        "#각 키에 따른 값을 하나씩 출력 \n",
        "for key in key_list:\n",
        "  print(data[key])"
      ],
      "metadata": {
        "colab": {
          "base_uri": "https://localhost:8080/"
        },
        "id": "4NQtY-8lTAhC",
        "outputId": "a5a8df35-8a21-44d3-954c-ca481ec06a79"
      },
      "execution_count": null,
      "outputs": [
        {
          "output_type": "stream",
          "name": "stdout",
          "text": [
            "dict_keys(['사과', '바나나', '코코넛'])\n",
            "dict_values(['Apple', 'Banana', 'Coconut'])\n",
            "Apple\n",
            "Banana\n",
            "Coconut\n"
          ]
        }
      ]
    },
    {
      "cell_type": "code",
      "source": [
        "b = {\n",
        "      '홍길동': 97,\n",
        "      '이순신': 98\n",
        "}\n",
        "\n",
        "print(b)\n",
        "print(b['이순신'])\n",
        "\n",
        "key_list = b.keys()\n",
        "print(key_list)\n",
        "\n",
        "#리스트 형태로 출력\n",
        "key_list = list(b.keys())\n",
        "print(key_list)"
      ],
      "metadata": {
        "colab": {
          "base_uri": "https://localhost:8080/"
        },
        "id": "-KJW_eGsTMFn",
        "outputId": "ca60ab70-d1ae-4e4c-a226-20901767e989"
      },
      "execution_count": null,
      "outputs": [
        {
          "output_type": "stream",
          "name": "stdout",
          "text": [
            "{'홍길동': 97, '이순신': 98}\n",
            "98\n",
            "dict_keys(['홍길동', '이순신'])\n",
            "['홍길동', '이순신']\n"
          ]
        }
      ]
    },
    {
      "cell_type": "markdown",
      "source": [
        "# **집합 자료형**"
      ],
      "metadata": {
        "id": "OcwXHap1VPLs"
      }
    },
    {
      "cell_type": "markdown",
      "source": [
        "\n",
        "*   중복 불가\n",
        "*   순서 없음\n",
        "*   초기화: 리스트 또는 문자열 이용\n",
        "> set()\n",
        "*   { , , , }\n",
        "*   데이터의 조회 및 수정에 O(1) 시간에 처리 가능\n",
        "\n",
        "\n",
        "\n"
      ],
      "metadata": {
        "id": "0lyeEZeNVRXo"
      }
    },
    {
      "cell_type": "code",
      "source": [
        "#초기화 방법 1\n",
        "data = set([1, 1, 2, 3, 4, 4, 5])\n",
        "print(data)\n",
        "\n",
        "#초기화 방법 2\n",
        "data = {1, 1, 2, 3, 4, 4, 5}\n",
        "print(data)\n"
      ],
      "metadata": {
        "colab": {
          "base_uri": "https://localhost:8080/"
        },
        "id": "0jjhpbNGVvT7",
        "outputId": "0b85bb97-4875-4830-d529-f6c3dd66d8b8"
      },
      "execution_count": null,
      "outputs": [
        {
          "output_type": "stream",
          "name": "stdout",
          "text": [
            "{1, 2, 3, 4, 5}\n",
            "{1, 2, 3, 4, 5}\n"
          ]
        }
      ]
    },
    {
      "cell_type": "markdown",
      "source": [
        "\n",
        "집합연산\n",
        "*   합집합: : ex) print(a:b)\n",
        "*   교집합: & ex) print(a & b)\n",
        "*   차집합: - \n",
        "\n"
      ],
      "metadata": {
        "id": "URTxWq7TWFo-"
      }
    },
    {
      "cell_type": "markdown",
      "source": [
        "함수\n",
        "\n",
        "\n",
        "*   .add(): 새로운 원소 추가\n",
        "*   .update(): 원소 여러 개 추가\n",
        "*   .remove() : 특정한 값을 갖는 원소 삭제\n",
        "\n"
      ],
      "metadata": {
        "id": "D9240WPUWiCs"
      }
    },
    {
      "cell_type": "code",
      "source": [
        "data = {1, 2, 3}\n",
        "print(data)\n",
        "\n",
        "data.add(4)\n",
        "print(data)\n",
        "\n",
        "data.update([5, 6])\n",
        "print(data)\n",
        "\n",
        "data.remove(3)\n",
        "print(data)"
      ],
      "metadata": {
        "colab": {
          "base_uri": "https://localhost:8080/"
        },
        "id": "zMWC_XtzWuy1",
        "outputId": "47335311-7857-42a5-a27d-bd0bde5992f1"
      },
      "execution_count": null,
      "outputs": [
        {
          "output_type": "stream",
          "name": "stdout",
          "text": [
            "{1, 2, 3}\n",
            "{1, 2, 3, 4}\n",
            "{1, 2, 3, 4, 5, 6}\n",
            "{1, 2, 4, 5, 6}\n"
          ]
        }
      ]
    },
    {
      "cell_type": "markdown",
      "source": [
        "사전 자료형과 자료형의 특징\n",
        "\n",
        "\n",
        "*   순서가 없기 때문에 인덱싱으로 값을 얻을 수 없음\n",
        "*   키나 집합의 원소를 이용해 O(1) 시간으로 조회\n",
        "\n"
      ],
      "metadata": {
        "id": "ktdU3ZVyXLTe"
      }
    },
    {
      "cell_type": "markdown",
      "source": [
        "# **기본 입출력**"
      ],
      "metadata": {
        "id": "aofWbsIhd7ej"
      }
    },
    {
      "cell_type": "markdown",
      "source": [
        "자주 사용되는 표준 입력 방법\n",
        "\n",
        "*   input(): 한 줄의 문자열을 입력받음\n",
        "*   map(): 리스트의 모든 원소에 각각 특정한 함수 적용\n",
        "\n",
        "\n",
        "*  공백 기준으로 구분된 데이터를 입력 받을 때\n",
        "> list(map(int, input().split()))\n",
        "\n",
        "*  공백을 기준으로 구분된 데이터의 개수가 많지 않을 때\n",
        "> a, b, c = map(int, input().split())\n",
        "\n",
        "\n",
        "\n",
        "\n",
        "\n",
        "\n",
        "\n"
      ],
      "metadata": {
        "id": "0P2sRsGDd-2I"
      }
    },
    {
      "cell_type": "markdown",
      "source": [
        "입력을 위한 전형적인 소스코드1"
      ],
      "metadata": {
        "id": "z5ZyjV87g4yt"
      }
    },
    {
      "cell_type": "code",
      "source": [
        "n = int(input())\n",
        "\n",
        "data = list(map(int, input().split()))\n",
        "\n",
        "print(n)\n",
        "\n",
        "print(data)\n"
      ],
      "metadata": {
        "id": "bjyx2QVkgn_2"
      },
      "execution_count": null,
      "outputs": []
    },
    {
      "cell_type": "markdown",
      "source": [
        "빠르게 입력 받기\n",
        "\n",
        "*   sys.stdin.readline()  매서드 이용\n",
        "*   rstrip() 함께 사용\n",
        "\n"
      ],
      "metadata": {
        "id": "guJAZ03fh5aw"
      }
    },
    {
      "cell_type": "code",
      "source": [
        "import sys\n",
        "\n",
        "data = sys.stdin.readline().rstip()\n",
        "print(data)"
      ],
      "metadata": {
        "id": "WvgBcHRRiNV9"
      },
      "execution_count": null,
      "outputs": []
    },
    {
      "cell_type": "markdown",
      "source": [
        "자주 사용되는 표준 출력 방법\n",
        "\n",
        "*   print()\n",
        "*   , 로 구분\n",
        "*  줄 바꿈을 원치 않을 때: end 속성 바꾸기\n",
        "\n"
      ],
      "metadata": {
        "id": "cdxY3P5viaH6"
      }
    },
    {
      "cell_type": "code",
      "source": [
        "\n",
        "print(7)\n",
        "print(8)\n",
        "print(7, end=\" \")\n",
        "print(8, end= \" \")"
      ],
      "metadata": {
        "colab": {
          "base_uri": "https://localhost:8080/"
        },
        "id": "k-kkjAoPisaT",
        "outputId": "bd9a71e7-218b-4eaa-d4ae-f68299c1ae50"
      },
      "execution_count": null,
      "outputs": [
        {
          "output_type": "stream",
          "name": "stdout",
          "text": [
            "7\n",
            "8\n",
            "7 8 "
          ]
        }
      ]
    },
    {
      "cell_type": "code",
      "source": [
        "answer = 7\n",
        "print(\"정답은\" + str(answer) + \"입니다.\") #정수형 데이터를 문자열로 바꿔준 후 연결"
      ],
      "metadata": {
        "colab": {
          "base_uri": "https://localhost:8080/"
        },
        "id": "yTqnqAYdi0fY",
        "outputId": "e71914ea-c5cf-4bce-f66b-bfdd67edf896"
      },
      "execution_count": null,
      "outputs": [
        {
          "output_type": "stream",
          "name": "stdout",
          "text": [
            "정답은7입니다.\n"
          ]
        }
      ]
    },
    {
      "cell_type": "markdown",
      "source": [
        "f-string 예제\n",
        "*   변수명 기입하여 문자열과 정수를 함께 넣을 수 있음\n",
        "\n",
        "\n",
        "\n"
      ],
      "metadata": {
        "id": "vE92ZjpljMlr"
      }
    },
    {
      "cell_type": "code",
      "source": [
        "answer = 100\n",
        "print(f\"정답은 {answer} 입니다.\")"
      ],
      "metadata": {
        "colab": {
          "base_uri": "https://localhost:8080/"
        },
        "id": "Vcg1y08bjalU",
        "outputId": "2f910914-26e9-4690-8df7-ac2f446703c6"
      },
      "execution_count": null,
      "outputs": [
        {
          "output_type": "stream",
          "name": "stdout",
          "text": [
            "정답은 100 입니다.\n"
          ]
        }
      ]
    },
    {
      "cell_type": "markdown",
      "source": [
        "# **조건문**"
      ],
      "metadata": {
        "id": "7Jignxq5joTn"
      }
    },
    {
      "cell_type": "code",
      "source": [
        "x = 11\n",
        "\n",
        "if x >= 10:\n",
        "  print(\"10이상\")\n",
        "\n",
        "if x >= 0:\n",
        "  print(\"0이상\")\n",
        "\n",
        "if x>=30:\n",
        "  print(\"30이상\")"
      ],
      "metadata": {
        "colab": {
          "base_uri": "https://localhost:8080/"
        },
        "id": "PeM1HpqrjuFl",
        "outputId": "3f27630e-ba9f-4410-a059-9e2e48191a00"
      },
      "execution_count": null,
      "outputs": [
        {
          "output_type": "stream",
          "name": "stdout",
          "text": [
            "10이상\n",
            "0이상\n"
          ]
        }
      ]
    },
    {
      "cell_type": "code",
      "source": [
        "score = 90\n",
        "\n",
        "if score>=80:\n",
        "  print('성적이 80점 이상입니다.')\n",
        "  if score >= 90:\n",
        "    print('우수한 성적입니다.')\n",
        "else:\n",
        "  print('성적인 70점 미만입니다.')\n",
        "  print('조금 더 분발하세요.')\n"
      ],
      "metadata": {
        "colab": {
          "base_uri": "https://localhost:8080/"
        },
        "id": "kX9Q6mu9kAua",
        "outputId": "688a8478-94aa-4275-8e1c-4fc56970c462"
      },
      "execution_count": null,
      "outputs": [
        {
          "output_type": "stream",
          "name": "stdout",
          "text": [
            "성적이 80점 이상입니다.\n",
            "우수한 성적입니다.\n"
          ]
        }
      ]
    },
    {
      "cell_type": "code",
      "source": [
        "a = 5\n",
        "\n",
        "if a >= 0:\n",
        "  print(\"0이상\")\n",
        "elif a>=-10:\n",
        "  print(\"-10이상\")\n",
        "else:\n",
        "  print(\"-10미만\")"
      ],
      "metadata": {
        "colab": {
          "base_uri": "https://localhost:8080/"
        },
        "id": "eVTXaKCwk1WY",
        "outputId": "e9fc2b6c-bd3f-42a6-e732-6894b5980f6b"
      },
      "execution_count": null,
      "outputs": [
        {
          "output_type": "stream",
          "name": "stdout",
          "text": [
            "0이상\n"
          ]
        }
      ]
    },
    {
      "cell_type": "markdown",
      "source": [
        "성적 구간에 따른 학점 출력 예제"
      ],
      "metadata": {
        "id": "s_ShvT9BlUi5"
      }
    },
    {
      "cell_type": "code",
      "source": [
        "score = 98\n",
        "\n",
        "if score>=90:\n",
        "  print(\"학점: A\")\n",
        "elif score>= 80:\n",
        "  print(\"학점: B\")\n",
        "elif score>=70:\n",
        "  print(\"학점: C\")\n",
        "else:\n",
        "  print(\"학점: F\")"
      ],
      "metadata": {
        "colab": {
          "base_uri": "https://localhost:8080/"
        },
        "id": "NcGcgoTRlYXa",
        "outputId": "c67f751e-f4d7-4871-f67d-a604b69c2107"
      },
      "execution_count": null,
      "outputs": [
        {
          "output_type": "stream",
          "name": "stdout",
          "text": [
            "학점: A\n"
          ]
        }
      ]
    },
    {
      "cell_type": "markdown",
      "source": [
        "**비교 연산자**\n",
        "\n",
        "\n",
        "*   X == Y : X와 Y가 서로 같을 때 \n",
        "*   X!= Y : X와 Y가 서로 다를 때\n"
      ],
      "metadata": {
        "id": "21CnmMRelwpC"
      }
    },
    {
      "cell_type": "markdown",
      "source": [
        "**논리 연산자**\n",
        "\n",
        "\n",
        "*   X and Y\n",
        "*   X or Y\n",
        "*   not X: 거짓일 때 참\n",
        "\n"
      ],
      "metadata": {
        "id": "WYFiFj6smLZA"
      }
    },
    {
      "cell_type": "code",
      "source": [
        "if True or False:\n",
        "  print(\"YES\")"
      ],
      "metadata": {
        "colab": {
          "base_uri": "https://localhost:8080/"
        },
        "id": "Fgkld2J_mZaq",
        "outputId": "25997094-fe48-4872-8a30-0b945ce0854a"
      },
      "execution_count": null,
      "outputs": [
        {
          "output_type": "stream",
          "name": "stdout",
          "text": [
            "YES\n"
          ]
        }
      ]
    },
    {
      "cell_type": "code",
      "source": [
        "if True and False:\n",
        "  print(\"YES\")"
      ],
      "metadata": {
        "id": "iTPPuVo3mhB0"
      },
      "execution_count": null,
      "outputs": []
    },
    {
      "cell_type": "markdown",
      "source": [
        "**기타 연산자**\n",
        "\n",
        "*   리스트, 튜플, 문자열, 딕셔너리 모두에서 사용 가능\n",
        "*   x in 리스트 : x가 리스트 안에 있을 때 참\n",
        "*   x not in 리스트\n",
        "*   pass : 형태만 만들어 놓고 아무것도 처리하고 싶지 않을 때\n",
        "\n"
      ],
      "metadata": {
        "id": "Z2GAx3MPmrso"
      }
    },
    {
      "cell_type": "code",
      "source": [
        "a = 50\n",
        "\n",
        "if a>=30:\n",
        "  pass\n",
        "else:\n",
        "  print(\"30미만\")"
      ],
      "metadata": {
        "id": "oYJSTI-HnFyw"
      },
      "execution_count": null,
      "outputs": []
    },
    {
      "cell_type": "markdown",
      "source": [
        "**조건문의 간소화**"
      ],
      "metadata": {
        "id": "pwr1UxLJnW-W"
      }
    },
    {
      "cell_type": "markdown",
      "source": [
        "실행될 소스코드가 한 줄인 경우"
      ],
      "metadata": {
        "id": "1Dydxn3xnakL"
      }
    },
    {
      "cell_type": "code",
      "source": [
        "score = 95\n",
        "\n",
        "if score>=80: result = \"Success\"\n",
        "else: result = 'Fail'\n",
        "\n",
        "print(result)"
      ],
      "metadata": {
        "colab": {
          "base_uri": "https://localhost:8080/"
        },
        "id": "s96pgU4rneZZ",
        "outputId": "9c004d11-922f-440f-f819-db7ba89db2f1"
      },
      "execution_count": null,
      "outputs": [
        {
          "output_type": "stream",
          "name": "stdout",
          "text": [
            "Success\n"
          ]
        }
      ]
    },
    {
      "cell_type": "markdown",
      "source": [
        "if ~ else문을 한 줄에 작성"
      ],
      "metadata": {
        "id": "1iQddCdnnsjY"
      }
    },
    {
      "cell_type": "code",
      "source": [
        "score = 92\n",
        "result = \"Success\" if score>=80 else \"Fail\"\n",
        "print(result)"
      ],
      "metadata": {
        "colab": {
          "base_uri": "https://localhost:8080/"
        },
        "id": "0pHCNTmrnpjx",
        "outputId": "553296a6-f7fe-4f0f-b9d0-0446f0c98cb0"
      },
      "execution_count": null,
      "outputs": [
        {
          "output_type": "stream",
          "name": "stdout",
          "text": [
            "Success\n"
          ]
        }
      ]
    },
    {
      "cell_type": "markdown",
      "source": [
        "조건문 내에서의 부등식\n",
        "\n",
        "*   0<x<20\n",
        "*   x>0 and x<20\n",
        "\n"
      ],
      "metadata": {
        "id": "pgq8blHcn_Q6"
      }
    },
    {
      "cell_type": "markdown",
      "source": [
        "# **반복문**"
      ],
      "metadata": {
        "id": "mR2BH8lPffub"
      }
    },
    {
      "cell_type": "markdown",
      "source": [
        "1~9까지 모든 정수의 합 구하기 예제"
      ],
      "metadata": {
        "id": "f_CRgR57fmFL"
      }
    },
    {
      "cell_type": "code",
      "source": [
        "#while\n",
        "\n",
        "i = 1\n",
        "result = 0\n",
        "\n",
        "while i <= 9:\n",
        "  result +=i\n",
        "  i+=1\n",
        "\n",
        "print(result)"
      ],
      "metadata": {
        "colab": {
          "base_uri": "https://localhost:8080/"
        },
        "id": "NtoIyp6cfk4K",
        "outputId": "b82cd877-798c-4c13-b8fa-34d6c273f8f9"
      },
      "execution_count": null,
      "outputs": [
        {
          "output_type": "stream",
          "name": "stdout",
          "text": [
            "45\n"
          ]
        }
      ]
    },
    {
      "cell_type": "markdown",
      "source": [
        "반복문에서의 무한 루프\n",
        "\n",
        "\n",
        "*   코딩 테스트에서는 거의 없음\n",
        "*   반복문을 탈출할 수 있는지 확인\n",
        "\n"
      ],
      "metadata": {
        "id": "yO7bzFc2gBVG"
      }
    },
    {
      "cell_type": "code",
      "source": [
        "x = 10\n",
        "\n",
        "while x > 5:\n",
        "  print(x)"
      ],
      "metadata": {
        "id": "yEb1Wcm7gccL"
      },
      "execution_count": null,
      "outputs": []
    },
    {
      "cell_type": "markdown",
      "source": [
        "for문\n",
        "*   in 뒤에 오는 데이터(리스트, 튜플 등)에 포함되어 있는 원소를 첫 번째 인덱스부터 차례대로 방문\n",
        "\n",
        "\n",
        "\n",
        "> for 변수 in 리스트:\n",
        "\n",
        "> 실행할 소스코드\n",
        "\n",
        "\n",
        "\n",
        "\n",
        "\n",
        "\n",
        "\n",
        "\n",
        "\n",
        "\n"
      ],
      "metadata": {
        "id": "BwCHhVS4gdSv"
      }
    },
    {
      "cell_type": "code",
      "source": [
        "array = [9, 8, 7, 6 ,5]\n",
        "\n",
        "for x in array:\n",
        "  print(x)"
      ],
      "metadata": {
        "colab": {
          "base_uri": "https://localhost:8080/"
        },
        "id": "0JYUrF36g-t8",
        "outputId": "c6d7ed3b-61f4-4faa-84f7-601dc0a8aa09"
      },
      "execution_count": null,
      "outputs": [
        {
          "output_type": "stream",
          "name": "stdout",
          "text": [
            "9\n",
            "8\n",
            "7\n",
            "6\n",
            "5\n"
          ]
        }
      ]
    },
    {
      "cell_type": "markdown",
      "source": [
        "for문에서의 range()\n",
        "*   연속적인 값을 차례대로 순회\n",
        "*   인자를 하나만 넣으면 자동으로 시작 값은 0\n"
      ],
      "metadata": {
        "id": "Ea6ctJqshWnb"
      }
    },
    {
      "cell_type": "code",
      "source": [
        "result = 0\n",
        "\n",
        "#i는 1부터 9까지 모든 값을 순회\n",
        "for i in range(1, 10):\n",
        "  result += i\n",
        "\n",
        "print(result)"
      ],
      "metadata": {
        "colab": {
          "base_uri": "https://localhost:8080/"
        },
        "id": "K-roWhEwhtr0",
        "outputId": "934b3455-fa44-4084-9422-49ee773fb96f"
      },
      "execution_count": null,
      "outputs": [
        {
          "output_type": "stream",
          "name": "stdout",
          "text": [
            "45\n"
          ]
        }
      ]
    },
    {
      "cell_type": "markdown",
      "source": [
        "continue 키워드\n",
        "\n",
        "\n",
        "*   반복문에서 남은 코드의 실행을 건너뛰고, 다음 반복 진행\n",
        "\n",
        "\n"
      ],
      "metadata": {
        "id": "bXluU5i8iE94"
      }
    },
    {
      "cell_type": "code",
      "source": [
        "#1~9까지의 홀수 합을 구할 때 \n",
        "\n",
        "result = 0\n",
        "\n",
        "for i in range(1, 10):\n",
        "  if i % 2 == 0:\n",
        "      continue\n",
        "  result += i\n",
        "\n",
        "print(result)"
      ],
      "metadata": {
        "colab": {
          "base_uri": "https://localhost:8080/"
        },
        "id": "s4Fwh_eyh_tl",
        "outputId": "87546ff0-48cd-43b8-bf1d-c916cb4fac7e"
      },
      "execution_count": null,
      "outputs": [
        {
          "output_type": "stream",
          "name": "stdout",
          "text": [
            "25\n"
          ]
        }
      ]
    },
    {
      "cell_type": "markdown",
      "source": [
        "break 키워드\n",
        "\n",
        "\n",
        "*   반복문 즉시 탈출 \n"
      ],
      "metadata": {
        "id": "49PYRbj9igre"
      }
    },
    {
      "cell_type": "code",
      "source": [
        "i = 1\n",
        "\n",
        "while True:\n",
        "  print(\"현재의 i 값: \", i)\n",
        "  if i == 5:\n",
        "    break \n",
        "  i += 1"
      ],
      "metadata": {
        "colab": {
          "base_uri": "https://localhost:8080/"
        },
        "id": "Q8atuTr8ie_-",
        "outputId": "477aecaa-323c-4678-fb3f-08705abb694c"
      },
      "execution_count": null,
      "outputs": [
        {
          "output_type": "stream",
          "name": "stdout",
          "text": [
            "현재의 i 값:  1\n",
            "현재의 i 값:  2\n",
            "현재의 i 값:  3\n",
            "현재의 i 값:  4\n",
            "현재의 i 값:  5\n"
          ]
        }
      ]
    },
    {
      "cell_type": "code",
      "source": [
        "#학생들의 합격 여부 판단 예제 \n",
        "\n",
        "score = [90, 85, 77, 65, 97]\n",
        "\n",
        "for i in range(5):\n",
        "  if score[i]>=80:\n",
        "    print(i+1, \"번 학생은 합격입니다.\")"
      ],
      "metadata": {
        "colab": {
          "base_uri": "https://localhost:8080/"
        },
        "id": "G4Bgp1RMi4Ig",
        "outputId": "ced7b47b-7cea-49ee-ee85-446368f1bec3"
      },
      "execution_count": null,
      "outputs": [
        {
          "output_type": "stream",
          "name": "stdout",
          "text": [
            "1 번 학생은 합격입니다.\n",
            "2 번 학생은 합격입니다.\n",
            "5 번 학생은 합격입니다.\n"
          ]
        }
      ]
    },
    {
      "cell_type": "code",
      "source": [
        "score = [90, 85, 77, 65, 97]\n",
        "cheating_student_list = {2, 4}\n",
        "\n",
        "for i in range(5):\n",
        "  if i + 1 in cheating_student_list:\n",
        "    continue\n",
        "  if score[i] >= 80:\n",
        "    print(i+1, \"번 학생은 합격입니다.\")"
      ],
      "metadata": {
        "colab": {
          "base_uri": "https://localhost:8080/"
        },
        "id": "LBHMZPRyjMKL",
        "outputId": "34e12bde-f962-426e-93c9-2197cc56ac75"
      },
      "execution_count": null,
      "outputs": [
        {
          "output_type": "stream",
          "name": "stdout",
          "text": [
            "1 번 학생은 합격입니다.\n",
            "5 번 학생은 합격입니다.\n"
          ]
        }
      ]
    },
    {
      "cell_type": "code",
      "source": [
        "#구구단 \n",
        "\n",
        "for i in range(2, 10):\n",
        "  for j in range(1, 10):\n",
        "    print(i, \"X\", j, \"=\", i*j)\n",
        "  print()"
      ],
      "metadata": {
        "id": "e6c8IdmVjyUP"
      },
      "execution_count": null,
      "outputs": []
    },
    {
      "cell_type": "markdown",
      "source": [
        "# **함수**"
      ],
      "metadata": {
        "id": "sM9BSOyokYjy"
      }
    },
    {
      "cell_type": "markdown",
      "source": [
        "\n",
        "\n",
        "*   내장 함수: 파이썬 기본 제공 함수\n",
        "*   사용자 정의 함수\n",
        "\n"
      ],
      "metadata": {
        "id": "0OPOcZGbkap8"
      }
    },
    {
      "cell_type": "markdown",
      "source": [
        "**함수정의하기**\n",
        "\n",
        "\n",
        "\n",
        "*   매개변수: 함수 내부에서 사용할 변수\n",
        "*   반환 값: 함수에서 처리 된 결과 반환\n",
        "\n",
        "\n",
        "\n",
        "> def 함수명(매개변수):\n",
        "\n",
        "\n",
        ">     실행할 소스코드\n",
        "\n",
        "\n",
        ">     return 반환 값\n",
        "\n",
        "\n",
        "\n",
        "\n",
        "\n",
        "\n",
        "\n"
      ],
      "metadata": {
        "id": "0qF_49Ovkhmr"
      }
    },
    {
      "cell_type": "code",
      "source": [
        "#더하기 1\n",
        "\n",
        "def add(a, b):\n",
        "    return a + b\n",
        "print(add(3, 7))\n",
        "\n",
        "#더하기 2\n",
        "\n",
        "def add(a, b):\n",
        "    print('함수의 결과:', a+b)\n",
        "\n",
        "add(3, 7)\n"
      ],
      "metadata": {
        "colab": {
          "base_uri": "https://localhost:8080/"
        },
        "id": "HMJme_03lBAQ",
        "outputId": "6f93a01e-e899-4c01-fe44-477723c7f141"
      },
      "execution_count": null,
      "outputs": [
        {
          "output_type": "stream",
          "name": "stdout",
          "text": [
            "10\n",
            "함수의 결과: 10\n"
          ]
        }
      ]
    },
    {
      "cell_type": "code",
      "source": [
        "#빼기\n",
        "\n",
        "def subtract(a, b):\n",
        "      return a - b\n",
        "print(subtract(3, 7))"
      ],
      "metadata": {
        "colab": {
          "base_uri": "https://localhost:8080/"
        },
        "id": "2tBHJXlblJlg",
        "outputId": "1bbe992d-b4db-4323-b1f6-70833cc8b3a0"
      },
      "execution_count": null,
      "outputs": [
        {
          "output_type": "stream",
          "name": "stdout",
          "text": [
            "-4\n"
          ]
        }
      ]
    },
    {
      "cell_type": "markdown",
      "source": [
        "파라미터 지정하기\n",
        "*  파라미터의 변수 직접 지정 가능\n",
        "*   매개변수의 순서가 달라도 상관 없음\n",
        "\n",
        "\n",
        "\n",
        "\n"
      ],
      "metadata": {
        "id": "_2IqEB4YmI5D"
      }
    },
    {
      "cell_type": "code",
      "source": [
        "def add(a, b):\n",
        "    print(a+b)\n",
        "add(b = 3, a = 7)"
      ],
      "metadata": {
        "colab": {
          "base_uri": "https://localhost:8080/"
        },
        "id": "MSLYFwsGmGkB",
        "outputId": "56111e02-5325-4b60-c7c7-f9d64eb8d1a6"
      },
      "execution_count": null,
      "outputs": [
        {
          "output_type": "stream",
          "name": "stdout",
          "text": [
            "10\n"
          ]
        }
      ]
    },
    {
      "cell_type": "markdown",
      "source": [
        "global 키워드\n",
        "\n",
        "\n",
        "*   함수 바깥에 선언된 함수 바로 참조\n",
        "\n",
        "\n"
      ],
      "metadata": {
        "id": "3bSLYUZJmzfO"
      }
    },
    {
      "cell_type": "code",
      "source": [
        "a = 0\n",
        "\n",
        "def func():\n",
        "   global a\n",
        "   a += 1\n",
        "  \n",
        "for i in range(10):\n",
        "   func()\n",
        "\n",
        "print(a)"
      ],
      "metadata": {
        "colab": {
          "base_uri": "https://localhost:8080/"
        },
        "id": "Tw3R0104m_qF",
        "outputId": "d52590db-cf1b-4ca2-f734-f4e0f0dce4df"
      },
      "execution_count": null,
      "outputs": [
        {
          "output_type": "stream",
          "name": "stdout",
          "text": [
            "10\n"
          ]
        }
      ]
    },
    {
      "cell_type": "code",
      "source": [
        "a = 10\n",
        "\n",
        "def func():\n",
        "  global a #전역변수 참조\n",
        "  a+=1\n",
        "  print(a)\n",
        "\n",
        "func()\n"
      ],
      "metadata": {
        "colab": {
          "base_uri": "https://localhost:8080/"
        },
        "id": "pOPCeBijn6Mo",
        "outputId": "c4bb9a01-fbff-4dc0-fdc4-414396014f5d"
      },
      "execution_count": null,
      "outputs": [
        {
          "output_type": "stream",
          "name": "stdout",
          "text": [
            "11\n"
          ]
        }
      ]
    },
    {
      "cell_type": "code",
      "source": [
        "array = [1, 2, 3, 4, 5]\n",
        "\n",
        "def func():\n",
        "  array = [3, 4, 5] #지역변수 먼저 참조\n",
        "  array.append(6)\n",
        "  print(array)\n",
        "\n",
        "func()\n",
        "print(array)"
      ],
      "metadata": {
        "colab": {
          "base_uri": "https://localhost:8080/"
        },
        "id": "Q6NUAUeKohJo",
        "outputId": "e5423671-e76e-4ad9-9681-86b8df8010bf"
      },
      "execution_count": null,
      "outputs": [
        {
          "output_type": "stream",
          "name": "stdout",
          "text": [
            "[3, 4, 5, 6]\n",
            "[1, 2, 3, 4, 5]\n"
          ]
        }
      ]
    },
    {
      "cell_type": "markdown",
      "source": [
        "**여러 개의 반환 값**\n",
        "\n",
        "\n"
      ],
      "metadata": {
        "id": "vpLBqZDjo7Vb"
      }
    },
    {
      "cell_type": "code",
      "source": [
        "def operator(a, b):\n",
        "  add_var = a + b\n",
        "  subtract_var = a - b\n",
        "  multiply_var = a * b\n",
        "  divide_var = a / b\n",
        "  return add_var, subtract_var, multiply_var, divide_var\n",
        "\n",
        "a, b, c, d = operator(7, 3)\n",
        "print(a, b, c , d)"
      ],
      "metadata": {
        "colab": {
          "base_uri": "https://localhost:8080/"
        },
        "id": "rOQ5PyPYpB6w",
        "outputId": "732cc5c9-b666-4c4a-f1d0-30cfa5a1ce81"
      },
      "execution_count": null,
      "outputs": [
        {
          "output_type": "stream",
          "name": "stdout",
          "text": [
            "10 4 21 2.3333333333333335\n"
          ]
        }
      ]
    },
    {
      "cell_type": "markdown",
      "source": [
        "**람다 표현식**\n",
        "*   특정 기능을 수행하는 함수를 한 줄에 작성\n",
        "\n"
      ],
      "metadata": {
        "id": "ivmvjqeppdX9"
      }
    },
    {
      "cell_type": "code",
      "source": [
        "print((lambda a, b: a + b)(3, 7))"
      ],
      "metadata": {
        "colab": {
          "base_uri": "https://localhost:8080/"
        },
        "id": "1nftQwoxpaW-",
        "outputId": "29c8b60f-edfa-45df-a887-2663fd596f90"
      },
      "execution_count": null,
      "outputs": [
        {
          "output_type": "stream",
          "name": "stdout",
          "text": [
            "10\n"
          ]
        }
      ]
    },
    {
      "cell_type": "code",
      "source": [
        "array = [('홍길동', 50), ('이순신', 32), ('아무개', 74)]\n",
        "\n",
        "def my_key(x):\n",
        "  return x[1] #두번째 원소를 기준으로 정렬 기준 \n",
        "\n",
        "print(sorted(array, key=my_key))\n",
        "\n",
        "print(sorted(array, key=lambda x: x[1]))"
      ],
      "metadata": {
        "colab": {
          "base_uri": "https://localhost:8080/"
        },
        "id": "KboNnanCp5n0",
        "outputId": "35f08a1f-80a5-4902-8fc3-d1e31b4bdcd7"
      },
      "execution_count": null,
      "outputs": [
        {
          "output_type": "stream",
          "name": "stdout",
          "text": [
            "[('이순신', 32), ('홍길동', 50), ('아무개', 74)]\n",
            "[('이순신', 32), ('홍길동', 50), ('아무개', 74)]\n"
          ]
        }
      ]
    },
    {
      "cell_type": "code",
      "source": [
        "#여러 개의 리스트에 적용\n",
        "list1 = [1, 2, 3, 4, 5]\n",
        "list2 = [6, 7, 8, 9, 10]\n",
        "\n",
        "result = map(lambda a, b: a + b, list1, list2)\n",
        "\n",
        "print(list(result))\n",
        "\n"
      ],
      "metadata": {
        "colab": {
          "base_uri": "https://localhost:8080/"
        },
        "id": "fF3Rdzq4q_jj",
        "outputId": "2434aef3-d37e-44b9-8463-c40fe4ead80e"
      },
      "execution_count": null,
      "outputs": [
        {
          "output_type": "stream",
          "name": "stdout",
          "text": [
            "[7, 9, 11, 13, 15]\n"
          ]
        }
      ]
    },
    {
      "cell_type": "markdown",
      "source": [
        "# **표준라이브러리**"
      ],
      "metadata": {
        "id": "mCfIUFKCzVvU"
      }
    },
    {
      "cell_type": "markdown",
      "source": [
        "**자주 사용되는 내장 함수**"
      ],
      "metadata": {
        "id": "myNaRSVgzh59"
      }
    },
    {
      "cell_type": "code",
      "source": [
        "#sum\n",
        "result = sum([1, 2, 3, 4, 5])\n",
        "print(result)\n",
        "\n",
        "#min(), max()\n",
        "min_result = min(7, 3, 5, 2)\n",
        "max_result = max(7, 3, 5, 2)\n",
        "print(min_result, max_result)\n",
        "\n",
        "#eval() 수식으로 표현된 식의 계산 결과를 수 형태로 반환\n",
        "result = eval(\"(3+5)*7\")\n",
        "print(result)\n",
        "\n"
      ],
      "metadata": {
        "colab": {
          "base_uri": "https://localhost:8080/"
        },
        "id": "WJh2oNok0O8b",
        "outputId": "add19919-fcd6-4102-bf8d-da9e04d9c50d"
      },
      "execution_count": null,
      "outputs": [
        {
          "output_type": "stream",
          "name": "stdout",
          "text": [
            "15\n",
            "2 7\n",
            "56\n"
          ]
        }
      ]
    },
    {
      "cell_type": "code",
      "source": [
        "#sorted()\n",
        "\n",
        "result = sorted([9, 1, 8, 5, 4])\n",
        "reverse_result = sorted([9, 1, 8, 5, 4], reverse=True)\n",
        "print(result)\n",
        "print(reverse_result)\n",
        "\n",
        "#sorted() with key\n",
        "array = [('홍길동', 35), ('이순신', 75)]\n",
        "result = sorted(array, key=lambda x: x[1], reverse=True)\n",
        "print(result)"
      ],
      "metadata": {
        "colab": {
          "base_uri": "https://localhost:8080/"
        },
        "id": "jzeYEAaK02xT",
        "outputId": "faa8dd3a-e364-410c-edd3-1742ce6ad75e"
      },
      "execution_count": null,
      "outputs": [
        {
          "output_type": "stream",
          "name": "stdout",
          "text": [
            "[1, 4, 5, 8, 9]\n",
            "[9, 8, 5, 4, 1]\n",
            "[('이순신', 75), ('홍길동', 35)]\n"
          ]
        }
      ]
    },
    {
      "cell_type": "markdown",
      "source": [
        "**순열과 조합**\n",
        "\n",
        "\n",
        "\n",
        "*   nPr: 서로 다른 n개에서 서로 다른 r 개 선택, permutations\n",
        "*   nCr: 서로 다른 n개에서 순서에 상관없이 서로 다른 r개 선택, combinations\n",
        "\n",
        "\n",
        "*   중복순열: prodcut\n",
        "*   중복조합: combination\n",
        "\n",
        "\n",
        "\n"
      ],
      "metadata": {
        "id": "ZIO7B2PZ2SlQ"
      }
    },
    {
      "cell_type": "code",
      "source": [
        "#순열\n",
        "\n",
        "from itertools import permutations\n",
        "\n",
        "data = ['A', 'B', 'C']\n",
        "\n",
        "result = list(permutations(data, 3)) #data에서 3개를 골라 순서를 고려하여 나열\n",
        "print(result)"
      ],
      "metadata": {
        "colab": {
          "base_uri": "https://localhost:8080/"
        },
        "id": "VQhhP9wK2lzC",
        "outputId": "8553edd2-1073-4862-9e04-f656edc50e75"
      },
      "execution_count": null,
      "outputs": [
        {
          "output_type": "stream",
          "name": "stdout",
          "text": [
            "[('A', 'B', 'C'), ('A', 'C', 'B'), ('B', 'A', 'C'), ('B', 'C', 'A'), ('C', 'A', 'B'), ('C', 'B', 'A')]\n"
          ]
        }
      ]
    },
    {
      "cell_type": "code",
      "source": [
        "#조합\n",
        "\n",
        "from itertools import combinations\n",
        "\n",
        "data = ['A', 'B', 'C']\n",
        "\n",
        "result = list(permutations(data, 2)) #data에서 2개를 골라 순서를 고려하여 나열\n",
        "print(result)"
      ],
      "metadata": {
        "colab": {
          "base_uri": "https://localhost:8080/"
        },
        "id": "AeUBgCP43FCj",
        "outputId": "6048c223-e696-4125-fdde-2484cb9ebf95"
      },
      "execution_count": null,
      "outputs": [
        {
          "output_type": "stream",
          "name": "stdout",
          "text": [
            "[('A', 'B'), ('A', 'C'), ('B', 'A'), ('B', 'C'), ('C', 'A'), ('C', 'B')]\n"
          ]
        }
      ]
    },
    {
      "cell_type": "code",
      "source": [
        "#중복 순열\n",
        "\n",
        "from itertools import product\n",
        "\n",
        "data = ['A', 'B', 'C']\n",
        "\n",
        "result = list(product(data, repeat = 2))\n",
        "print(result)\n",
        "\n"
      ],
      "metadata": {
        "colab": {
          "base_uri": "https://localhost:8080/"
        },
        "id": "nW7pjOap3SB1",
        "outputId": "eaff702e-46bb-49cf-aff1-88e6b0e34ca6"
      },
      "execution_count": null,
      "outputs": [
        {
          "output_type": "stream",
          "name": "stdout",
          "text": [
            "[('A', 'A'), ('A', 'B'), ('A', 'C'), ('B', 'A'), ('B', 'B'), ('B', 'C'), ('C', 'A'), ('C', 'B'), ('C', 'C')]\n"
          ]
        }
      ]
    },
    {
      "cell_type": "markdown",
      "source": [
        "**Counter**\n",
        "\n",
        "\n",
        "*   리스트와 같은 반복 가능한 객체가 주어졌을 때 원소의 등장 횟수를 세는 기능\n",
        "\n"
      ],
      "metadata": {
        "id": "LoJ9qOYU3p1s"
      }
    },
    {
      "cell_type": "code",
      "source": [
        "from collections import Counter\n",
        "\n",
        "counter = Counter(['red', 'blue', ' red', 'green', 'blue', 'blue'])\n",
        "\n",
        "print(counter['blue'])\n",
        "print(counter['green'])\n",
        "print(dict(counter))\n"
      ],
      "metadata": {
        "colab": {
          "base_uri": "https://localhost:8080/"
        },
        "id": "HgRCn0Tp30E-",
        "outputId": "f90ae6b6-55f5-44c1-e874-8af44acad2a4"
      },
      "execution_count": null,
      "outputs": [
        {
          "output_type": "stream",
          "name": "stdout",
          "text": [
            "3\n",
            "1\n",
            "{'red': 1, 'blue': 3, ' red': 1, 'green': 1}\n"
          ]
        }
      ]
    },
    {
      "cell_type": "markdown",
      "source": [
        "**최대 공약수와 최소 공배수**\n",
        "\n",
        "\n",
        "*   math 라이브러리의 gcd() 함수\n",
        "\n"
      ],
      "metadata": {
        "id": "MlU3t6B34ZYJ"
      }
    },
    {
      "cell_type": "code",
      "source": [
        "import math\n",
        "\n",
        "#최대 공약수\n",
        "print(math.gcd(21, 14))\n",
        "\n",
        "#최소 공배수\n",
        "print(lcm(21, 14))"
      ],
      "metadata": {
        "colab": {
          "base_uri": "https://localhost:8080/"
        },
        "id": "_fRB6UdRonc-",
        "outputId": "ffa93bc9-ce56-472c-fcde-c6972fa81b52"
      },
      "execution_count": null,
      "outputs": [
        {
          "output_type": "stream",
          "name": "stdout",
          "text": [
            "7\n",
            "42\n"
          ]
        }
      ]
    }
  ]
}